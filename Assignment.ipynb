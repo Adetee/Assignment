{
 "cells": [
  {
   "cell_type": "code",
   "execution_count": 1,
   "metadata": {},
   "outputs": [],
   "source": [
    "#import the necessary libraries\n",
    "import numpy as np\n",
    "import pandas as pd\n",
    "import time\n",
    "import calendar\n",
    "import random\n",
    "import io\n",
    "import json\n",
    "import os"
   ]
  },
  {
   "cell_type": "code",
   "execution_count": 2,
   "metadata": {},
   "outputs": [],
   "source": [
    "dict = {}"
   ]
  },
  {
   "cell_type": "code",
   "execution_count": 3,
   "metadata": {},
   "outputs": [],
   "source": [
    "#get the current time in unix\n",
    "gmt = time.gmtime()\n",
    "current_time  = calendar.timegm(gmt)"
   ]
  },
  {
   "cell_type": "code",
   "execution_count": 4,
   "metadata": {},
   "outputs": [
    {
     "data": {
      "text/plain": [
       "1623134842"
      ]
     },
     "execution_count": 4,
     "metadata": {},
     "output_type": "execute_result"
    }
   ],
   "source": [
    "current_time"
   ]
  },
  {
   "cell_type": "code",
   "execution_count": 5,
   "metadata": {},
   "outputs": [],
   "source": [
    "#add 2 hours in current time\n",
    "current_plus_2_hours = calendar.timegm(gmt) + 2 * 60 * 60\n",
    "#current_plus_2_hours = calendar.timegm(gmt) + 2 * 10"
   ]
  },
  {
   "cell_type": "code",
   "execution_count": 6,
   "metadata": {},
   "outputs": [
    {
     "data": {
      "text/plain": [
       "1623142042"
      ]
     },
     "execution_count": 6,
     "metadata": {},
     "output_type": "execute_result"
    }
   ],
   "source": [
    "current_plus_2_hours"
   ]
  },
  {
   "cell_type": "code",
   "execution_count": 7,
   "metadata": {},
   "outputs": [],
   "source": [
    "#function to generate random numbers between the given range\n",
    "def random_rate(rangemin, rangemax):\n",
    "    return random.randint(rangemin, rangemax)\n",
    "    "
   ]
  },
  {
   "cell_type": "code",
   "execution_count": 8,
   "metadata": {},
   "outputs": [],
   "source": [
    "# function to create a dictionary in specified format and a dataframe\n",
    "def create_dict(user_id,current_time,current_plus_2_hours,i):\n",
    "    dict['user_id'] = user_id\n",
    "    dict['timestamp'] = current_time\n",
    "    dict['heart_rate'] = random_rate(50,170)\n",
    "    dict['respitation_rate'] = random_rate(30,60)\n",
    "    dict['activity'] = random_rate(0,10)\n",
    "    df = pd.DataFrame(dict, index = [i])\n",
    "    return dict,df\n",
    "    \n",
    "    \n",
    "    "
   ]
  },
  {
   "cell_type": "code",
   "execution_count": 9,
   "metadata": {},
   "outputs": [],
   "source": [
    "#empty dataframes\n",
    "df1 = pd.DataFrame()\n",
    "df2 = pd.DataFrame()\n",
    "i=0\n",
    "filename = 'data.json'\n",
    "\n",
    "if os.path.exists(filename):\n",
    "    append_write = 'a' # append if already exists\n",
    "else:\n",
    "    append_write = 'w' # make a new file if not\n",
    "\n",
    "file = open(filename,append_write)\n",
    "\n",
    "#loop will run till current_time is less than current_plus_2_hours\n",
    "while(current_time < current_plus_2_hours):\n",
    "    a_dict,df = create_dict('abc',current_time,current_plus_2_hours,i)\n",
    "    i += 1\n",
    "    a_dict = json.dumps(a_dict)\n",
    "    df1 = df1.append(df)\n",
    "    \n",
    "    \n",
    "    file.write(a_dict + '\\n')\n",
    "    current_time += 1\n",
    "\n",
    "file.close()"
   ]
  },
  {
   "cell_type": "code",
   "execution_count": 10,
   "metadata": {},
   "outputs": [
    {
     "data": {
      "text/html": [
       "<div>\n",
       "<style scoped>\n",
       "    .dataframe tbody tr th:only-of-type {\n",
       "        vertical-align: middle;\n",
       "    }\n",
       "\n",
       "    .dataframe tbody tr th {\n",
       "        vertical-align: top;\n",
       "    }\n",
       "\n",
       "    .dataframe thead th {\n",
       "        text-align: right;\n",
       "    }\n",
       "</style>\n",
       "<table border=\"1\" class=\"dataframe\">\n",
       "  <thead>\n",
       "    <tr style=\"text-align: right;\">\n",
       "      <th></th>\n",
       "      <th>user_id</th>\n",
       "      <th>timestamp</th>\n",
       "      <th>heart_rate</th>\n",
       "      <th>respitation_rate</th>\n",
       "      <th>activity</th>\n",
       "    </tr>\n",
       "  </thead>\n",
       "  <tbody>\n",
       "    <tr>\n",
       "      <th>0</th>\n",
       "      <td>abc</td>\n",
       "      <td>1623134842</td>\n",
       "      <td>117</td>\n",
       "      <td>53</td>\n",
       "      <td>6</td>\n",
       "    </tr>\n",
       "    <tr>\n",
       "      <th>1</th>\n",
       "      <td>abc</td>\n",
       "      <td>1623134843</td>\n",
       "      <td>84</td>\n",
       "      <td>42</td>\n",
       "      <td>1</td>\n",
       "    </tr>\n",
       "    <tr>\n",
       "      <th>2</th>\n",
       "      <td>abc</td>\n",
       "      <td>1623134844</td>\n",
       "      <td>81</td>\n",
       "      <td>45</td>\n",
       "      <td>6</td>\n",
       "    </tr>\n",
       "    <tr>\n",
       "      <th>3</th>\n",
       "      <td>abc</td>\n",
       "      <td>1623134845</td>\n",
       "      <td>125</td>\n",
       "      <td>46</td>\n",
       "      <td>2</td>\n",
       "    </tr>\n",
       "    <tr>\n",
       "      <th>4</th>\n",
       "      <td>abc</td>\n",
       "      <td>1623134846</td>\n",
       "      <td>167</td>\n",
       "      <td>51</td>\n",
       "      <td>9</td>\n",
       "    </tr>\n",
       "    <tr>\n",
       "      <th>...</th>\n",
       "      <td>...</td>\n",
       "      <td>...</td>\n",
       "      <td>...</td>\n",
       "      <td>...</td>\n",
       "      <td>...</td>\n",
       "    </tr>\n",
       "    <tr>\n",
       "      <th>7195</th>\n",
       "      <td>abc</td>\n",
       "      <td>1623142037</td>\n",
       "      <td>165</td>\n",
       "      <td>50</td>\n",
       "      <td>6</td>\n",
       "    </tr>\n",
       "    <tr>\n",
       "      <th>7196</th>\n",
       "      <td>abc</td>\n",
       "      <td>1623142038</td>\n",
       "      <td>51</td>\n",
       "      <td>54</td>\n",
       "      <td>4</td>\n",
       "    </tr>\n",
       "    <tr>\n",
       "      <th>7197</th>\n",
       "      <td>abc</td>\n",
       "      <td>1623142039</td>\n",
       "      <td>168</td>\n",
       "      <td>52</td>\n",
       "      <td>2</td>\n",
       "    </tr>\n",
       "    <tr>\n",
       "      <th>7198</th>\n",
       "      <td>abc</td>\n",
       "      <td>1623142040</td>\n",
       "      <td>139</td>\n",
       "      <td>39</td>\n",
       "      <td>3</td>\n",
       "    </tr>\n",
       "    <tr>\n",
       "      <th>7199</th>\n",
       "      <td>abc</td>\n",
       "      <td>1623142041</td>\n",
       "      <td>68</td>\n",
       "      <td>34</td>\n",
       "      <td>10</td>\n",
       "    </tr>\n",
       "  </tbody>\n",
       "</table>\n",
       "<p>7200 rows × 5 columns</p>\n",
       "</div>"
      ],
      "text/plain": [
       "     user_id   timestamp  heart_rate  respitation_rate  activity\n",
       "0        abc  1623134842         117                53         6\n",
       "1        abc  1623134843          84                42         1\n",
       "2        abc  1623134844          81                45         6\n",
       "3        abc  1623134845         125                46         2\n",
       "4        abc  1623134846         167                51         9\n",
       "...      ...         ...         ...               ...       ...\n",
       "7195     abc  1623142037         165                50         6\n",
       "7196     abc  1623142038          51                54         4\n",
       "7197     abc  1623142039         168                52         2\n",
       "7198     abc  1623142040         139                39         3\n",
       "7199     abc  1623142041          68                34        10\n",
       "\n",
       "[7200 rows x 5 columns]"
      ]
     },
     "execution_count": 10,
     "metadata": {},
     "output_type": "execute_result"
    }
   ],
   "source": [
    "df1"
   ]
  },
  {
   "cell_type": "code",
   "execution_count": 11,
   "metadata": {},
   "outputs": [],
   "source": [
    "df2 = pd.DataFrame()\n",
    "df3 = pd.DataFrame()"
   ]
  },
  {
   "cell_type": "code",
   "execution_count": 12,
   "metadata": {},
   "outputs": [],
   "source": [
    "#function to create dataframe output\n",
    "def create_dataframe(df1,df2, no_segments):\n",
    "    df2['seg_start'] = df1['timestamp'].groupby(np.arange(len(df1))//no_segments).min()\n",
    "    df2['seg_end'] = df1['timestamp'].groupby(np.arange(len(df1))//no_segments).max()\n",
    "    df2['avg_hr'] = df1['heart_rate'].groupby(np.arange(len(df1))//no_segments).mean()\n",
    "    df2['min_hr'] = df1['heart_rate'].groupby(np.arange(len(df1))//no_segments).min()\n",
    "    df2['max_hr'] = df1['heart_rate'].groupby(np.arange(len(df1))//no_segments).max()\n",
    "    df2['avg_rr'] = df1['respitation_rate'].groupby(np.arange(len(df1))//no_segments).mean()\n",
    "    return df2\n",
    "    "
   ]
  },
  {
   "cell_type": "code",
   "execution_count": 13,
   "metadata": {},
   "outputs": [],
   "source": [
    "#calculations for every 15 minutes\n",
    "no_segments = 15*60\n",
    "df2 = create_dataframe(df1,df2,no_segments)\n"
   ]
  },
  {
   "cell_type": "code",
   "execution_count": 14,
   "metadata": {},
   "outputs": [
    {
     "data": {
      "text/html": [
       "<div>\n",
       "<style scoped>\n",
       "    .dataframe tbody tr th:only-of-type {\n",
       "        vertical-align: middle;\n",
       "    }\n",
       "\n",
       "    .dataframe tbody tr th {\n",
       "        vertical-align: top;\n",
       "    }\n",
       "\n",
       "    .dataframe thead th {\n",
       "        text-align: right;\n",
       "    }\n",
       "</style>\n",
       "<table border=\"1\" class=\"dataframe\">\n",
       "  <thead>\n",
       "    <tr style=\"text-align: right;\">\n",
       "      <th></th>\n",
       "      <th>seg_start</th>\n",
       "      <th>seg_end</th>\n",
       "      <th>avg_hr</th>\n",
       "      <th>min_hr</th>\n",
       "      <th>max_hr</th>\n",
       "      <th>avg_rr</th>\n",
       "    </tr>\n",
       "  </thead>\n",
       "  <tbody>\n",
       "    <tr>\n",
       "      <th>0</th>\n",
       "      <td>1623134842</td>\n",
       "      <td>1623135741</td>\n",
       "      <td>110.347778</td>\n",
       "      <td>50</td>\n",
       "      <td>170</td>\n",
       "      <td>45.195556</td>\n",
       "    </tr>\n",
       "    <tr>\n",
       "      <th>1</th>\n",
       "      <td>1623135742</td>\n",
       "      <td>1623136641</td>\n",
       "      <td>109.476667</td>\n",
       "      <td>50</td>\n",
       "      <td>170</td>\n",
       "      <td>45.235556</td>\n",
       "    </tr>\n",
       "    <tr>\n",
       "      <th>2</th>\n",
       "      <td>1623136642</td>\n",
       "      <td>1623137541</td>\n",
       "      <td>111.313333</td>\n",
       "      <td>50</td>\n",
       "      <td>170</td>\n",
       "      <td>44.851111</td>\n",
       "    </tr>\n",
       "    <tr>\n",
       "      <th>3</th>\n",
       "      <td>1623137542</td>\n",
       "      <td>1623138441</td>\n",
       "      <td>109.891111</td>\n",
       "      <td>50</td>\n",
       "      <td>170</td>\n",
       "      <td>45.206667</td>\n",
       "    </tr>\n",
       "    <tr>\n",
       "      <th>4</th>\n",
       "      <td>1623138442</td>\n",
       "      <td>1623139341</td>\n",
       "      <td>109.146667</td>\n",
       "      <td>50</td>\n",
       "      <td>170</td>\n",
       "      <td>45.291111</td>\n",
       "    </tr>\n",
       "    <tr>\n",
       "      <th>5</th>\n",
       "      <td>1623139342</td>\n",
       "      <td>1623140241</td>\n",
       "      <td>109.791111</td>\n",
       "      <td>50</td>\n",
       "      <td>170</td>\n",
       "      <td>44.930000</td>\n",
       "    </tr>\n",
       "    <tr>\n",
       "      <th>6</th>\n",
       "      <td>1623140242</td>\n",
       "      <td>1623141141</td>\n",
       "      <td>110.195556</td>\n",
       "      <td>50</td>\n",
       "      <td>170</td>\n",
       "      <td>45.268889</td>\n",
       "    </tr>\n",
       "    <tr>\n",
       "      <th>7</th>\n",
       "      <td>1623141142</td>\n",
       "      <td>1623142041</td>\n",
       "      <td>112.890000</td>\n",
       "      <td>50</td>\n",
       "      <td>170</td>\n",
       "      <td>44.800000</td>\n",
       "    </tr>\n",
       "  </tbody>\n",
       "</table>\n",
       "</div>"
      ],
      "text/plain": [
       "    seg_start     seg_end      avg_hr  min_hr  max_hr     avg_rr\n",
       "0  1623134842  1623135741  110.347778      50     170  45.195556\n",
       "1  1623135742  1623136641  109.476667      50     170  45.235556\n",
       "2  1623136642  1623137541  111.313333      50     170  44.851111\n",
       "3  1623137542  1623138441  109.891111      50     170  45.206667\n",
       "4  1623138442  1623139341  109.146667      50     170  45.291111\n",
       "5  1623139342  1623140241  109.791111      50     170  44.930000\n",
       "6  1623140242  1623141141  110.195556      50     170  45.268889\n",
       "7  1623141142  1623142041  112.890000      50     170  44.800000"
      ]
     },
     "execution_count": 14,
     "metadata": {},
     "output_type": "execute_result"
    }
   ],
   "source": [
    "df2"
   ]
  },
  {
   "cell_type": "code",
   "execution_count": 15,
   "metadata": {},
   "outputs": [],
   "source": [
    "#optional : function to derive hourly avg, min, max, using the above data frame which has 15 mins segments\n",
    "def create_hourly_dataframe(df2,df3, no_segments):\n",
    "    df3['seg_start'] = df2['seg_start'].groupby(np.arange(len(df2))//no_segments).min()\n",
    "    df3['seg_end'] = df2['seg_end'].groupby(np.arange(len(df2))//no_segments).max()\n",
    "    df3['avg_hr'] = df2['avg_hr'].groupby(np.arange(len(df2))//no_segments).mean()\n",
    "    df3['min_hr'] = df2['min_hr'].groupby(np.arange(len(df2))//no_segments).min()\n",
    "    df3['max_hr'] = df2['max_hr'].groupby(np.arange(len(df2))//no_segments).max()\n",
    "    df3['avg_rr'] = df2['avg_rr'].groupby(np.arange(len(df2))//no_segments).mean()\n",
    "   \n",
    "    return df3"
   ]
  },
  {
   "cell_type": "code",
   "execution_count": 16,
   "metadata": {},
   "outputs": [],
   "source": [
    "no_segments1 = df2.shape[0]//2\n",
    "df3 = create_hourly_dataframe(df2,df3,no_segments1)"
   ]
  },
  {
   "cell_type": "code",
   "execution_count": 17,
   "metadata": {},
   "outputs": [
    {
     "data": {
      "text/html": [
       "<div>\n",
       "<style scoped>\n",
       "    .dataframe tbody tr th:only-of-type {\n",
       "        vertical-align: middle;\n",
       "    }\n",
       "\n",
       "    .dataframe tbody tr th {\n",
       "        vertical-align: top;\n",
       "    }\n",
       "\n",
       "    .dataframe thead th {\n",
       "        text-align: right;\n",
       "    }\n",
       "</style>\n",
       "<table border=\"1\" class=\"dataframe\">\n",
       "  <thead>\n",
       "    <tr style=\"text-align: right;\">\n",
       "      <th></th>\n",
       "      <th>seg_start</th>\n",
       "      <th>seg_end</th>\n",
       "      <th>avg_hr</th>\n",
       "      <th>min_hr</th>\n",
       "      <th>max_hr</th>\n",
       "      <th>avg_rr</th>\n",
       "    </tr>\n",
       "  </thead>\n",
       "  <tbody>\n",
       "    <tr>\n",
       "      <th>0</th>\n",
       "      <td>1623134842</td>\n",
       "      <td>1623138441</td>\n",
       "      <td>110.257222</td>\n",
       "      <td>50</td>\n",
       "      <td>170</td>\n",
       "      <td>45.122222</td>\n",
       "    </tr>\n",
       "    <tr>\n",
       "      <th>1</th>\n",
       "      <td>1623138442</td>\n",
       "      <td>1623142041</td>\n",
       "      <td>110.505833</td>\n",
       "      <td>50</td>\n",
       "      <td>170</td>\n",
       "      <td>45.072500</td>\n",
       "    </tr>\n",
       "  </tbody>\n",
       "</table>\n",
       "</div>"
      ],
      "text/plain": [
       "    seg_start     seg_end      avg_hr  min_hr  max_hr     avg_rr\n",
       "0  1623134842  1623138441  110.257222      50     170  45.122222\n",
       "1  1623138442  1623142041  110.505833      50     170  45.072500"
      ]
     },
     "execution_count": 17,
     "metadata": {},
     "output_type": "execute_result"
    }
   ],
   "source": [
    "df3"
   ]
  },
  {
   "cell_type": "code",
   "execution_count": 18,
   "metadata": {},
   "outputs": [],
   "source": [
    "#save dataframe to output.csv and  output_hourly.csv file\n",
    "df2.to_csv('output.csv')\n",
    "df3.to_csv('output_hourly.csv')"
   ]
  },
  {
   "cell_type": "code",
   "execution_count": null,
   "metadata": {},
   "outputs": [],
   "source": []
  }
 ],
 "metadata": {
  "kernelspec": {
   "display_name": "Python 3",
   "language": "python",
   "name": "python3"
  },
  "language_info": {
   "codemirror_mode": {
    "name": "ipython",
    "version": 3
   },
   "file_extension": ".py",
   "mimetype": "text/x-python",
   "name": "python",
   "nbconvert_exporter": "python",
   "pygments_lexer": "ipython3",
   "version": "3.8.5"
  }
 },
 "nbformat": 4,
 "nbformat_minor": 4
}
